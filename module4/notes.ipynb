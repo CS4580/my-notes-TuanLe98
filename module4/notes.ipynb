{
 "cells": [
  {
   "cell_type": "markdown",
   "metadata": {},
   "source": [
    "## Iterables\n",
    "Include comprehensions, iterable objects, and iterators. we can briefly discuss the lazy evaluation model with generators.\n",
    "\n",
    "\n",
    "### List Comprehension \n",
    "the shorthand of comprehensions will make your code more readable, expressive and effective\n",
    "\n"
   ]
  },
  {
   "cell_type": "code",
   "execution_count": 3,
   "metadata": {},
   "outputs": [
    {
     "data": {
      "text/plain": [
       "['Today', 'i', 'am', 'very', 'happy', 'to', 'learn', 'about', 'comprehensions']"
      ]
     },
     "execution_count": 3,
     "metadata": {},
     "output_type": "execute_result"
    }
   ],
   "source": [
    "words = \"Today i am very happy to learn about comprehensions\".split()\n",
    "words"
   ]
  },
  {
   "cell_type": "code",
   "execution_count": 4,
   "metadata": {},
   "outputs": [
    {
     "name": "stdout",
     "output_type": "stream",
     "text": [
      "['Today', 'i', 'am', 'very', 'happy', 'to', 'learn', 'about', 'comprehensions']\n",
      "[5, 1, 2, 4, 5, 2, 5, 5, 14]\n"
     ]
    }
   ],
   "source": [
    "#create a new list with the length of each string from words\n",
    "lengths = []\n",
    "for word in words:\n",
    "    lengths.append(len(word))\n",
    "print(words)\n",
    "print(lengths)"
   ]
  },
  {
   "cell_type": "code",
   "execution_count": 5,
   "metadata": {},
   "outputs": [
    {
     "name": "stdout",
     "output_type": "stream",
     "text": [
      "[5, 1, 2, 4, 5, 2, 5, 5, 14]\n"
     ]
    }
   ],
   "source": [
    "#use a list comprehension instead\n",
    "lengths = [len(word) for word in words]\n",
    "\n",
    "print(lengths)"
   ]
  },
  {
   "cell_type": "code",
   "execution_count": 13,
   "metadata": {},
   "outputs": [
    {
     "name": "stdout",
     "output_type": "stream",
     "text": [
      "[1, 1, 1, 2, 3, 3, 4, 5, 6, 7, 8, 9, 10, 11, 13, 14, 15, 16, 18, 19]\n"
     ]
    }
   ],
   "source": [
    "#Use a list comprehension, calculate the length(number of digits) of the first 20 factorial numbers\n",
    "\n",
    "from math import factorial as fact\n",
    "\n",
    "def fact_length():\n",
    "    fac_length = [len(str(fact(number))) for number in range(1,21)]\n",
    "    return fac_length\n",
    "\n",
    "print(fact_length())\n",
    "\n",
    "\n"
   ]
  },
  {
   "cell_type": "markdown",
   "metadata": {},
   "source": [
    "## Set comprehensions\n",
    "General form:\n",
    "'''{expr(item) for item in iterable}'''"
   ]
  },
  {
   "cell_type": "code",
   "execution_count": 15,
   "metadata": {},
   "outputs": [
    {
     "name": "stdout",
     "output_type": "stream",
     "text": [
      "a list of unique length of the first 20 factorial: <function fact_length at 0x000001CFD2FCCF40>\n"
     ]
    }
   ],
   "source": [
    "# Task: create a list of unique length of the first 20 factorial\n",
    "\n",
    "fac_length = {len(str(fact(number))) for number in range(1,21)}\n",
    "\n",
    "print(f'a list of unique length of the first 20 factorial: {fact_length}')"
   ]
  },
  {
   "cell_type": "markdown",
   "metadata": {},
   "source": [
    "##  Dictionary comprehensions\n"
   ]
  },
  {
   "cell_type": "code",
   "execution_count": 16,
   "metadata": {},
   "outputs": [
    {
     "name": "stdout",
     "output_type": "stream",
     "text": [
      "{'warriors': 'San francisco', 'lakes': 'LAX', 'Jax': 'SLC'}\n",
      "{'San francisco': 'warriors', 'LAX': 'lakes', 'SLC': 'Jax'}\n"
     ]
    }
   ],
   "source": [
    "nba_teams = {'warriors':'San francisco','lakes':'LAX','Jax':'SLC'}\n",
    "\n",
    "# create dictionary comprehension\n",
    "\n",
    "teams_nba ={city:moscot for moscot, city in nba_teams.items()}\n",
    "\n",
    "print(nba_teams)\n",
    "print(teams_nba)\n"
   ]
  },
  {
   "cell_type": "markdown",
   "metadata": {},
   "source": [
    "### Filtering predicates \n",
    "you may use `optional` filtering predicate\n",
    "General form:\n",
    "`expr(item) for item in iterable if predicate(item)`"
   ]
  },
  {
   "cell_type": "code",
   "execution_count": 18,
   "metadata": {},
   "outputs": [
    {
     "name": "stdout",
     "output_type": "stream",
     "text": [
      "[2, 3, 5, 7, 11, 13, 17, 19, 23, 29, 31, 37, 41, 43, 47, 53, 59, 61, 67, 71, 73, 79, 83, 89, 97]\n"
     ]
    }
   ],
   "source": [
    "from math import sqrt\n",
    "def is_prime(number):\n",
    "    if number < 2:\n",
    "        return False\n",
    "    for i in range(2,int(sqrt(number)+1)):\n",
    "        if number %i==0:\n",
    "            return False\n",
    "    return True\n",
    "\n",
    "primes = [x for x in range(101)if is_prime(x)]\n",
    "print(primes)"
   ]
  },
  {
   "cell_type": "markdown",
   "metadata": {},
   "source": [
    "#TO DO:\n"
   ]
  }
 ],
 "metadata": {
  "kernelspec": {
   "display_name": "assignment2",
   "language": "python",
   "name": "python3"
  },
  "language_info": {
   "codemirror_mode": {
    "name": "ipython",
    "version": 3
   },
   "file_extension": ".py",
   "mimetype": "text/x-python",
   "name": "python",
   "nbconvert_exporter": "python",
   "pygments_lexer": "ipython3",
   "version": "3.12.6"
  }
 },
 "nbformat": 4,
 "nbformat_minor": 2
}
