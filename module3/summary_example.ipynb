{
 "cells": [
  {
   "cell_type": "code",
   "execution_count": 2,
   "metadata": {},
   "outputs": [
    {
     "data": {
      "text/plain": [
       "88.0"
      ]
     },
     "execution_count": 2,
     "metadata": {},
     "output_type": "execute_result"
    }
   ],
   "source": [
    "# calculate the median of the points column from the dataset frame\n",
    "import pandas as pd\n",
    "#TODO: load dataset\n",
    "df_wine = pd.read_csv('../data/winemag-data-130k-v2.csv')\n",
    "#TODO: save in variable called: median_points= \n",
    "median_points = df_wine.points.median()\n",
    "\n",
    "median_points"
   ]
  },
  {
   "cell_type": "code",
   "execution_count": 12,
   "metadata": {},
   "outputs": [
    {
     "data": {
      "text/plain": [
       "array(['Italy', 'Portugal', 'US', 'Spain', 'France', 'Germany',\n",
       "       'Argentina', 'Chile', 'Australia', 'Austria', 'South Africa',\n",
       "       'New Zealand', 'Israel', 'Hungary', 'Greece', 'Romania', 'Mexico',\n",
       "       'Canada', nan, 'Turkey', 'Czech Republic', 'Slovenia',\n",
       "       'Luxembourg', 'Croatia', 'Georgia', 'Uruguay', 'England',\n",
       "       'Lebanon', 'Serbia', 'Brazil', 'Moldova', 'Morocco', 'Peru',\n",
       "       'India', 'Bulgaria', 'Cyprus', 'Armenia', 'Switzerland',\n",
       "       'Bosnia and Herzegovina', 'Ukraine', 'Slovakia', 'Macedonia',\n",
       "       'China', 'Egypt'], dtype=object)"
      ]
     },
     "execution_count": 12,
     "metadata": {},
     "output_type": "execute_result"
    }
   ],
   "source": [
    "#TODO: find which countries are represented in the dataset\n",
    "# store values in: countries =\n",
    "\n",
    "countries = df_wine.country.unique()\n",
    "\n",
    "countries"
   ]
  },
  {
   "cell_type": "code",
   "execution_count": 13,
   "metadata": {},
   "outputs": [
    {
     "data": {
      "text/plain": [
       "country\n",
       "US                        54504\n",
       "France                    22093\n",
       "Italy                     19540\n",
       "Spain                      6645\n",
       "Portugal                   5691\n",
       "Chile                      4472\n",
       "Argentina                  3800\n",
       "Austria                    3345\n",
       "Australia                  2329\n",
       "Germany                    2165\n",
       "New Zealand                1419\n",
       "South Africa               1401\n",
       "Israel                      505\n",
       "Greece                      466\n",
       "Canada                      257\n",
       "Hungary                     146\n",
       "Bulgaria                    141\n",
       "Romania                     120\n",
       "Uruguay                     109\n",
       "Turkey                       90\n",
       "Slovenia                     87\n",
       "Georgia                      86\n",
       "England                      74\n",
       "Croatia                      73\n",
       "Mexico                       70\n",
       "Moldova                      59\n",
       "Brazil                       52\n",
       "Lebanon                      35\n",
       "Morocco                      28\n",
       "Peru                         16\n",
       "Ukraine                      14\n",
       "Macedonia                    12\n",
       "Czech Republic               12\n",
       "Serbia                       12\n",
       "Cyprus                       11\n",
       "India                         9\n",
       "Switzerland                   7\n",
       "Luxembourg                    6\n",
       "Armenia                       2\n",
       "Bosnia and Herzegovina        2\n",
       "Slovakia                      1\n",
       "China                         1\n",
       "Egypt                         1\n",
       "Name: count, dtype: int64"
      ]
     },
     "execution_count": 13,
     "metadata": {},
     "output_type": "execute_result"
    }
   ],
   "source": [
    "#TODO: find how often each country appears in the set\n",
    "# store values in: reviews_per_country =\n",
    "\n",
    "review_per_country = df_wine.country.value_counts()\n",
    "review_per_country"
   ]
  },
  {
   "cell_type": "code",
   "execution_count": 16,
   "metadata": {},
   "outputs": [
    {
     "data": {
      "text/plain": [
       "0               NaN\n",
       "1        -73.447138\n",
       "2        -74.447138\n",
       "3        -75.447138\n",
       "4        -23.447138\n",
       "            ...    \n",
       "129966   -60.447138\n",
       "129967   -13.447138\n",
       "129968   -58.447138\n",
       "129969   -56.447138\n",
       "129970   -67.447138\n",
       "Name: price, Length: 129971, dtype: float64"
      ]
     },
     "execution_count": 16,
     "metadata": {},
     "output_type": "execute_result"
    }
   ],
   "source": [
    "#TODO: Create a variable called: centered_price\n",
    "# that contains the price column with the mean price subtracted\n",
    "centered_price = df_wine.price-df_wine.points.mean()\n",
    "\n",
    "centered_price"
   ]
  },
  {
   "cell_type": "code",
   "execution_count": 19,
   "metadata": {},
   "outputs": [
    {
     "data": {
      "text/plain": [
       "'Bandit NV Merlot (California)'"
      ]
     },
     "execution_count": 19,
     "metadata": {},
     "output_type": "execute_result"
    }
   ],
   "source": [
    "#TODO: find the bargain wine\n",
    "# create a variable called: bargain_wine with the title of the hightest point-per-price ratio\n",
    "\n",
    "bargain_wine = df_wine.loc[(df_wine.points/df_wine.price).idxmax(),'title']\n",
    "bargain_wine\n",
    "\n"
   ]
  },
  {
   "cell_type": "code",
   "execution_count": 25,
   "metadata": {},
   "outputs": [
    {
     "data": {
      "text/plain": [
       "tropical    3607\n",
       "fruity      9090\n",
       "dtype: int64"
      ]
     },
     "execution_count": 25,
     "metadata": {},
     "output_type": "execute_result"
    }
   ],
   "source": [
    "#TODO: create  a series called: descriptor_counts\n",
    "# count how many time each of the words: 'fruity' and 'tropical' appear in the description column\n",
    "\n",
    "tropical = df_wine.description.map(lambda desc:'tropical' in desc).sum()\n",
    "fruity = df_wine.description.map(lambda desc:'fruity' in desc).sum()\n",
    "#count them and return them series\n",
    "descriptor_counts = pd.Series([tropical,fruity], index=['tropical','fruity'])\n",
    "\n",
    "descriptor_counts\n"
   ]
  },
  {
   "cell_type": "code",
   "execution_count": 27,
   "metadata": {},
   "outputs": [
    {
     "data": {
      "text/plain": [
       "2    115125\n",
       "1     12430\n",
       "3      2416\n",
       "Name: count, dtype: int64"
      ]
     },
     "execution_count": 27,
     "metadata": {},
     "output_type": "execute_result"
    }
   ],
   "source": [
    "#TODO: create a series call: star_rating\n",
    "# with the number of stars corresponding to each review in the set\n",
    "# Rating system ranges from 80-100 points\n",
    "# a score of 95 or high = 3 star\n",
    "# a score of at least 85 but less than 95=2 star\n",
    "# any other score is 1 star\n",
    "\n",
    "def stars(row):\n",
    "    if row.points>=95:\n",
    "        return 3\n",
    "    elif row.points >=85:\n",
    "        return 2\n",
    "    else:\n",
    "        return 1\n",
    "star_rating = df_wine.apply(stars,axis='columns')\n",
    "\n",
    "star_rating.value_counts()"
   ]
  }
 ],
 "metadata": {
  "kernelspec": {
   "display_name": "assignment2",
   "language": "python",
   "name": "python3"
  },
  "language_info": {
   "codemirror_mode": {
    "name": "ipython",
    "version": 3
   },
   "file_extension": ".py",
   "mimetype": "text/x-python",
   "name": "python",
   "nbconvert_exporter": "python",
   "pygments_lexer": "ipython3",
   "version": "3.10.14"
  }
 },
 "nbformat": 4,
 "nbformat_minor": 2
}
